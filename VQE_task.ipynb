{
  "nbformat": 4,
  "nbformat_minor": 0,
  "metadata": {
    "colab": {
      "name": "VQE_task.ipynb",
      "provenance": [],
      "collapsed_sections": [],
      "authorship_tag": "ABX9TyM9V7Byy0TCvMthqFGo5mJu",
      "include_colab_link": true
    },
    "kernelspec": {
      "name": "python3",
      "display_name": "Python 3"
    }
  },
  "cells": [
    {
      "cell_type": "markdown",
      "metadata": {
        "id": "view-in-github",
        "colab_type": "text"
      },
      "source": [
        "<a href=\"https://colab.research.google.com/github/moj-a/VQE_Task/blob/master/VQE_task.ipynb\" target=\"_parent\"><img src=\"https://colab.research.google.com/assets/colab-badge.svg\" alt=\"Open In Colab\"/></a>"
      ]
    },
    {
      "cell_type": "code",
      "metadata": {
        "id": "3aTlBr3SDUsa"
      },
      "source": [
        "import numpy as np\n",
        "from numpy import kron\n",
        "from random import random\n",
        "from scipy.optimize import minimize\n",
        "\n",
        "from qiskit import *\n",
        "from qiskit.circuit.library.standard_gates import U2Gate\n",
        "from qiskit.aqua.operators import WeightedPauliOperator\n",
        "from qiskit.aqua.algorithms import NumPyEigensolver"
      ],
      "execution_count": 2,
      "outputs": []
    },
    {
      "cell_type": "code",
      "metadata": {
        "id": "QzOXrlyM9OHm"
      },
      "source": [
        "# Decomposing the given hamiltonian matrix:\n",
        "\n",
        "def decomp(H):\n",
        "    \"\"\"\n",
        "    decomposing the matrix to sum of Pauli terms\n",
        "    :param H: 4*4 matrix.\n",
        "    :params p_x, p_y, p_z ,p_I: are pauli matrices.\n",
        "    :symbols: list of the pauli matrices that we use to represent the different terms of the decomposition. \n",
        "    :param term: different part of the decomposition.\n",
        "    :param coef: coeficent for each term in the decomposition.\n",
        "    \"\"\"\n",
        "   \n",
        "    p_x = np.array([[0, 1],  [ 1, 0]])\n",
        "    p_y = np.array([[0, -1j],[1j, 0]])\n",
        "    p_z = np.array([[1, 0],  [0, -1]])\n",
        "    p_I = np.array([[1, 0],  [ 0, 1]])\n",
        "    P = [p_I, p_x, p_y, p_z]\n",
        "    symbols = ['I', 's_x', 's_y', 's_z']\n",
        "    for i in range(4):\n",
        "        for j in range(4):\n",
        "            term = symbols[i] + ' \\otimes ' + symbols[j]\n",
        "            coef_ij = 0.25 * np.dot(kron(P[i], P[j]).conjugate().transpose(), H).trace()\n",
        "            if coef_ij != 0.0:\n",
        "                print ( coef_ij.real, term)\n"
      ],
      "execution_count": 3,
      "outputs": []
    },
    {
      "cell_type": "code",
      "metadata": {
        "id": "fmhX5XTL9fRL"
      },
      "source": [
        "# The given hamiltonian matrix:\n",
        "\n",
        "\n",
        "H = np.matrix([[1,0,0,0], \n",
        "                      [0, 0, -1, 0], \n",
        "                      [0,-1,0,0], \n",
        "                      [0,0,0,1]])"
      ],
      "execution_count": 4,
      "outputs": []
    },
    {
      "cell_type": "code",
      "metadata": {
        "id": "axL4y5Pr9fg0",
        "outputId": "4c884645-2b39-44f8-da8b-de103a3efa49",
        "colab": {
          "base_uri": "https://localhost:8080/",
          "height": 85
        }
      },
      "source": [
        "H_decomp = decomp(H)"
      ],
      "execution_count": 5,
      "outputs": [
        {
          "output_type": "stream",
          "text": [
            "[[0.5]] I \\otimes I\n",
            "[[-0.5]] s_x \\otimes s_x\n",
            "[[-0.5]] s_y \\otimes s_y\n",
            "[[0.5]] s_z \\otimes s_z\n"
          ],
          "name": "stdout"
        }
      ]
    },
    {
      "cell_type": "code",
      "metadata": {
        "id": "ERCa1I_3MLhg"
      },
      "source": [
        "# Using Weighted Pauli Operator to reperesnt the hamiltonian \n",
        "\n",
        "pauli_dict = {\n",
        "    'paulis': [{\"coeff\": {\"imag\": 0.0, \"real\": 0.5}, \"label\": \"II\"},\n",
        "              {\"coeff\": {\"imag\": 0.0, \"real\": 0.5}, \"label\": \"ZZ\"},\n",
        "              {\"coeff\": {\"imag\": 0.0, \"real\": -0.5}, \"label\": \"XX\"},\n",
        "              {\"coeff\": {\"imag\": 0.0, \"real\": -0.5}, \"label\": \"YY\"}\n",
        "              ]\n",
        "}\n",
        "H2=WeightedPauliOperator.from_dict(pauli_dict)"
      ],
      "execution_count": 6,
      "outputs": []
    },
    {
      "cell_type": "code",
      "metadata": {
        "id": "_LJjTIH-DEiK",
        "outputId": "7461aa8f-452a-4795-e3a1-cba984c5ad5f",
        "colab": {
          "base_uri": "https://localhost:8080/",
          "height": 85
        }
      },
      "source": [
        "# Using Qiskit's NumPyEigensolver class to find the smallest eigenvalue of the given Hamiltonian with a classical algorithm. \n",
        "# Only as a reference for comparing with the result of my own VQE \n",
        "\n",
        "exact_result = NumPyEigensolver(H2).run()\n",
        "print(\"exact_result:\",exact_result)\n",
        "reference_energy = min(np.real(exact_result.eigenvalues))\n",
        "print('The exact ground state energy is: {}'.format(reference_energy))"
      ],
      "execution_count": 7,
      "outputs": [
        {
          "output_type": "stream",
          "text": [
            "exact_result: {'eigenvalues': array([-1.-2.76098236e-17j]), 'eigenstates': ListOp([VectorStateFn(Statevector([0.        +4.44522891e-18j, 0.58961433-3.90326707e-01j,\n",
            "             0.58961433-3.90326707e-01j, 0.        +5.55111512e-17j],\n",
            "            dims=(2, 2)), coeff=1.0, is_measurement=False)], coeff=1.0, abelian=False)}\n",
            "The exact ground state energy is: -1.0000000000000002\n"
          ],
          "name": "stdout"
        }
      ]
    },
    {
      "cell_type": "code",
      "metadata": {
        "id": "Isn3M9pGw6m7"
      },
      "source": [
        "#I only considerd RX as my variational parameter.\n",
        "\n",
        "def quantum_state_preparation(circuit, parameters):\n",
        "    q = circuit.qregs[0] # q is the quantum register where the info about qubits is stored\n",
        "    circuit.h(0)\n",
        "    circuit.cx(0, 1)\n",
        "    circuit.rx(parameters[0], 0)\n",
        "    return circuit"
      ],
      "execution_count": 14,
      "outputs": []
    },
    {
      "cell_type": "code",
      "metadata": {
        "id": "XsidhRSjFG8f"
      },
      "source": [
        "def vqe_circuit(parameters, measure):\n",
        "    \"\"\"\n",
        "    Creates a device ansatz circuit for optimization.\n",
        "    :param parameters_array: list of parameters for constructing ansatz state that should be optimized.\n",
        "    :param measure: measurement type. E.g. 'ZZ' stands for Z \\otimes Z measurement.\n",
        "    :return: quantum circuit.\n",
        "    \"\"\"\n",
        "    circuit = QuantumCircuit(2)\n",
        "\n",
        "    # quantum state preparation\n",
        "    circuit = quantum_state_preparation(circuit, parameters)\n",
        "\n",
        "    # measurement\n",
        "    if measure == 'ZZ':\n",
        "        circuit.measure_all()\n",
        "\n",
        "    elif measure == 'XX':\n",
        "        circuit.barrier()\n",
        "        circuit.u2(0, np.pi, 0)\n",
        "        circuit.u2(0, np.pi, 1)\n",
        "        circuit.measure_all()\n",
        "\n",
        "    elif measure == 'YY':\n",
        "        circuit.barrier()\n",
        "        circuit.u2(0, np.pi/2, 0)\n",
        "        circuit.u2(0, np.pi/2, 1)\n",
        "        circuit.measure_all()\n",
        "\n",
        "    else:\n",
        "        raise ValueError('Not valid input for measurement: input should be \"XX\" or \"YY\" or \"ZZ\"')\n",
        "\n",
        "    return circuit"
      ],
      "execution_count": 15,
      "outputs": []
    },
    {
      "cell_type": "code",
      "metadata": {
        "id": "GjHjWRvzLl7_"
      },
      "source": [
        "# Finding the expectation values of a Pauli operators: \n",
        "\n",
        "def quantum_module(parameters, measure):\n",
        "    # measure\n",
        "    if measure == 'II':\n",
        "        return 1\n",
        "    elif measure == 'ZZ':\n",
        "        circuit = vqe_circuit(parameters, 'ZZ')\n",
        "    elif measure == 'XX':\n",
        "        circuit = vqe_circuit(parameters, 'XX')\n",
        "    elif measure == 'YY':\n",
        "        circuit = vqe_circuit(parameters, 'YY')\n",
        "    else:\n",
        "        raise ValueError('Not valid input for measurement: input should be \"II\" or \"XX\" or \"ZZ\" or \"YY\"')\n",
        "    \n",
        "    shots = 8192\n",
        "    backend = BasicAer.get_backend('qasm_simulator')\n",
        "    job = execute(circuit, backend, shots=shots)\n",
        "    result = job.result()\n",
        "    counts = result.get_counts()\n",
        "\n",
        "    \n",
        "    # expectation value estimation from counts\n",
        "    expectation_value = 0\n",
        "    for measure_result in counts:\n",
        "        if measure_result == '00':\n",
        "          sign = +1\n",
        "        elif measure_result == '11':\n",
        "          sign = +1\n",
        "        elif measure_result == '01':\n",
        "          sign = -1\n",
        "        elif measure_result == '10':\n",
        "          sign = -1\n",
        "        expectation_value += sign * counts[measure_result] / shots\n",
        "        \n",
        "    return expectation_value"
      ],
      "execution_count": 16,
      "outputs": []
    },
    {
      "cell_type": "code",
      "metadata": {
        "id": "GalfIlIaLmHG"
      },
      "source": [
        "# Creating a dictionary from the WeightedPauliOperator object:\n",
        " \n",
        "def pauli_operator_to_dict(pauli_operator):\n",
        "    \"\"\"\n",
        "    from WeightedPauliOperator return a dict:\n",
        "    {'II': 0.5, 'XX': -0.5, 'YY': -0.5, 'ZZ': 0.5}.\n",
        "    :param pauli_operator: qiskit's WeightedPauliOperator\n",
        "    :return: a dict in the desired form.\n",
        "    \"\"\"\n",
        "    d = pauli_operator.to_dict()\n",
        "    paulis = d['paulis']\n",
        "    paulis_dict = {}\n",
        "\n",
        "    for x in paulis:\n",
        "        label = x['label']\n",
        "        coeff = x['coeff']['real']\n",
        "        paulis_dict[label] = coeff\n",
        "\n",
        "    return paulis_dict\n",
        "pauli_dict = pauli_operator_to_dict(H2)"
      ],
      "execution_count": 17,
      "outputs": []
    },
    {
      "cell_type": "code",
      "metadata": {
        "id": "YuR5Ksle1I-f",
        "outputId": "6b7605af-753b-46f6-b750-5641c03afeb7",
        "colab": {
          "base_uri": "https://localhost:8080/",
          "height": 34
        }
      },
      "source": [
        "pauli_dict"
      ],
      "execution_count": 18,
      "outputs": [
        {
          "output_type": "execute_result",
          "data": {
            "text/plain": [
              "{'II': 0.5, 'XX': -0.5, 'YY': -0.5, 'ZZ': 0.5}"
            ]
          },
          "metadata": {
            "tags": []
          },
          "execution_count": 18
        }
      ]
    },
    {
      "cell_type": "code",
      "metadata": {
        "id": "2SGk3zATLl6s"
      },
      "source": [
        "# Multiplying the expectation values of Pauli operators by their corresponding coefficients, and then add them all together:\n",
        "\n",
        "def vqe(parameters):\n",
        "        \n",
        "    # quantum_modules\n",
        "    quantum_module_II = pauli_dict['II'] * quantum_module(parameters, 'II')\n",
        "    quantum_module_ZZ = pauli_dict['ZZ'] * quantum_module(parameters, 'ZZ')\n",
        "    quantum_module_XX = pauli_dict['XX'] * quantum_module(parameters, 'XX')\n",
        "    quantum_module_YY = pauli_dict['YY'] * quantum_module(parameters, 'YY')\n",
        "    \n",
        "    # summing the measurement results\n",
        "    classical_adder = quantum_module_II + quantum_module_ZZ + quantum_module_XX + quantum_module_YY\n",
        "    \n",
        "    return classical_adder"
      ],
      "execution_count": 19,
      "outputs": []
    },
    {
      "cell_type": "code",
      "metadata": {
        "id": "gcominXLLzva",
        "outputId": "83b027a3-220e-45c4-9caf-9b0f8dba8d99",
        "colab": {
          "base_uri": "https://localhost:8080/",
          "height": 51
        }
      },
      "source": [
        "#Comparing the exact ground state and the estimated ground state from my VQE:\n",
        "\n",
        "parameters_array = np.array([np.pi])\n",
        "tol = 1e-3 # tolerance for optimization precision.\n",
        "\n",
        "\n",
        "vqe_result = minimize(vqe, parameters_array, method=\"Powell\", tol=tol)\n",
        "print('The exact ground state energy is: {}'.format(reference_energy))\n",
        "print('The estimated ground state energy from VQE algorithm is: {}'.format(vqe_result.fun))"
      ],
      "execution_count": 20,
      "outputs": [
        {
          "output_type": "stream",
          "text": [
            "The exact ground state energy is: -1.0000000000000002\n",
            "The estimated ground state energy from VQE algorithm is: -1.0\n"
          ],
          "name": "stdout"
        }
      ]
    }
  ]
}