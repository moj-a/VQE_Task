{
  "nbformat": 4,
  "nbformat_minor": 0,
  "metadata": {
    "colab": {
      "name": "VQE_task.ipynb",
      "provenance": [],
      "collapsed_sections": [],
      "authorship_tag": "ABX9TyPcdYwP7yBmM83rupZxQt8T",
      "include_colab_link": true
    },
    "kernelspec": {
      "name": "python3",
      "display_name": "Python 3"
    }
  },
  "cells": [
    {
      "cell_type": "markdown",
      "metadata": {
        "id": "view-in-github",
        "colab_type": "text"
      },
      "source": [
        "<a href=\"https://colab.research.google.com/github/moj-a/VQE_Task/blob/master/VQE_task.ipynb\" target=\"_parent\"><img src=\"https://colab.research.google.com/assets/colab-badge.svg\" alt=\"Open In Colab\"/></a>"
      ]
    },
    {
      "cell_type": "code",
      "metadata": {
        "id": "3MuTIwa_DTmT",
        "outputId": "be7df93d-02a0-4d00-f0f7-7b379fdf0d18",
        "colab": {
          "base_uri": "https://localhost:8080/",
          "height": 884
        }
      },
      "source": [
        "pip install qiskit"
      ],
      "execution_count": null,
      "outputs": [
        {
          "output_type": "stream",
          "text": [
            "Requirement already satisfied: qiskit in /usr/local/lib/python3.6/dist-packages (0.21.0)\n",
            "Requirement already satisfied: qiskit-terra==0.15.2 in /usr/local/lib/python3.6/dist-packages (from qiskit) (0.15.2)\n",
            "Requirement already satisfied: qiskit-aqua==0.7.5 in /usr/local/lib/python3.6/dist-packages (from qiskit) (0.7.5)\n",
            "Requirement already satisfied: qiskit-aer==0.6.1 in /usr/local/lib/python3.6/dist-packages (from qiskit) (0.6.1)\n",
            "Requirement already satisfied: qiskit-ignis==0.4.0 in /usr/local/lib/python3.6/dist-packages (from qiskit) (0.4.0)\n",
            "Requirement already satisfied: qiskit-ibmq-provider==0.9.0 in /usr/local/lib/python3.6/dist-packages (from qiskit) (0.9.0)\n",
            "Requirement already satisfied: ply>=3.10 in /usr/local/lib/python3.6/dist-packages (from qiskit-terra==0.15.2->qiskit) (3.11)\n",
            "Requirement already satisfied: networkx>=2.2; python_version > \"3.5\" in /usr/local/lib/python3.6/dist-packages (from qiskit-terra==0.15.2->qiskit) (2.5)\n",
            "Requirement already satisfied: python-dateutil>=2.8.0 in /usr/local/lib/python3.6/dist-packages (from qiskit-terra==0.15.2->qiskit) (2.8.1)\n",
            "Requirement already satisfied: contextvars>=2.4; python_version < \"3.7\" in /usr/local/lib/python3.6/dist-packages (from qiskit-terra==0.15.2->qiskit) (2.4)\n",
            "Requirement already satisfied: psutil>=5 in /usr/local/lib/python3.6/dist-packages (from qiskit-terra==0.15.2->qiskit) (5.4.8)\n",
            "Requirement already satisfied: fastjsonschema>=2.10 in /usr/local/lib/python3.6/dist-packages (from qiskit-terra==0.15.2->qiskit) (2.14.5)\n",
            "Requirement already satisfied: dill>=0.3 in /usr/local/lib/python3.6/dist-packages (from qiskit-terra==0.15.2->qiskit) (0.3.2)\n",
            "Requirement already satisfied: retworkx>=0.4.0 in /usr/local/lib/python3.6/dist-packages (from qiskit-terra==0.15.2->qiskit) (0.5.0)\n",
            "Requirement already satisfied: scipy>=1.4 in /usr/local/lib/python3.6/dist-packages (from qiskit-terra==0.15.2->qiskit) (1.4.1)\n",
            "Requirement already satisfied: sympy>=1.3 in /usr/local/lib/python3.6/dist-packages (from qiskit-terra==0.15.2->qiskit) (1.6.2)\n",
            "Requirement already satisfied: jsonschema>=2.6 in /usr/local/lib/python3.6/dist-packages (from qiskit-terra==0.15.2->qiskit) (2.6.0)\n",
            "Requirement already satisfied: python-constraint>=1.4 in /usr/local/lib/python3.6/dist-packages (from qiskit-terra==0.15.2->qiskit) (1.4.0)\n",
            "Requirement already satisfied: numpy>=1.17 in /usr/local/lib/python3.6/dist-packages (from qiskit-terra==0.15.2->qiskit) (1.18.5)\n",
            "Requirement already satisfied: yfinance in /usr/local/lib/python3.6/dist-packages (from qiskit-aqua==0.7.5->qiskit) (0.1.54)\n",
            "Requirement already satisfied: pandas in /usr/local/lib/python3.6/dist-packages (from qiskit-aqua==0.7.5->qiskit) (1.0.5)\n",
            "Requirement already satisfied: fastdtw in /usr/local/lib/python3.6/dist-packages (from qiskit-aqua==0.7.5->qiskit) (0.3.4)\n",
            "Requirement already satisfied: setuptools>=40.1.0 in /usr/local/lib/python3.6/dist-packages (from qiskit-aqua==0.7.5->qiskit) (50.3.0)\n",
            "Requirement already satisfied: h5py in /usr/local/lib/python3.6/dist-packages (from qiskit-aqua==0.7.5->qiskit) (2.10.0)\n",
            "Requirement already satisfied: quandl in /usr/local/lib/python3.6/dist-packages (from qiskit-aqua==0.7.5->qiskit) (3.5.2)\n",
            "Requirement already satisfied: dlx in /usr/local/lib/python3.6/dist-packages (from qiskit-aqua==0.7.5->qiskit) (1.0.4)\n",
            "Requirement already satisfied: docplex in /usr/local/lib/python3.6/dist-packages (from qiskit-aqua==0.7.5->qiskit) (2.15.194)\n",
            "Requirement already satisfied: scikit-learn>=0.20.0 in /usr/local/lib/python3.6/dist-packages (from qiskit-aqua==0.7.5->qiskit) (0.22.2.post1)\n",
            "Requirement already satisfied: cython>=0.27.1 in /usr/local/lib/python3.6/dist-packages (from qiskit-aer==0.6.1->qiskit) (0.29.21)\n",
            "Requirement already satisfied: pybind11>=2.4 in /usr/local/lib/python3.6/dist-packages (from qiskit-aer==0.6.1->qiskit) (2.5.0)\n",
            "Requirement already satisfied: requests>=2.19 in /usr/local/lib/python3.6/dist-packages (from qiskit-ibmq-provider==0.9.0->qiskit) (2.23.0)\n",
            "Requirement already satisfied: nest-asyncio!=1.1.0,>=1.0.0 in /usr/local/lib/python3.6/dist-packages (from qiskit-ibmq-provider==0.9.0->qiskit) (1.4.0)\n",
            "Requirement already satisfied: requests-ntlm>=1.1.0 in /usr/local/lib/python3.6/dist-packages (from qiskit-ibmq-provider==0.9.0->qiskit) (1.1.0)\n",
            "Requirement already satisfied: urllib3>=1.21.1 in /usr/local/lib/python3.6/dist-packages (from qiskit-ibmq-provider==0.9.0->qiskit) (1.24.3)\n",
            "Requirement already satisfied: websockets<8,>=7; python_version <= \"3.6\" in /usr/local/lib/python3.6/dist-packages (from qiskit-ibmq-provider==0.9.0->qiskit) (7.0)\n",
            "Requirement already satisfied: decorator>=4.3.0 in /usr/local/lib/python3.6/dist-packages (from networkx>=2.2; python_version > \"3.5\"->qiskit-terra==0.15.2->qiskit) (4.4.2)\n",
            "Requirement already satisfied: six>=1.5 in /usr/local/lib/python3.6/dist-packages (from python-dateutil>=2.8.0->qiskit-terra==0.15.2->qiskit) (1.15.0)\n",
            "Requirement already satisfied: immutables>=0.9 in /usr/local/lib/python3.6/dist-packages (from contextvars>=2.4; python_version < \"3.7\"->qiskit-terra==0.15.2->qiskit) (0.14)\n",
            "Requirement already satisfied: mpmath>=0.19 in /usr/local/lib/python3.6/dist-packages (from sympy>=1.3->qiskit-terra==0.15.2->qiskit) (1.1.0)\n",
            "Requirement already satisfied: multitasking>=0.0.7 in /usr/local/lib/python3.6/dist-packages (from yfinance->qiskit-aqua==0.7.5->qiskit) (0.0.9)\n",
            "Requirement already satisfied: pytz>=2017.2 in /usr/local/lib/python3.6/dist-packages (from pandas->qiskit-aqua==0.7.5->qiskit) (2018.9)\n",
            "Requirement already satisfied: more-itertools in /usr/local/lib/python3.6/dist-packages (from quandl->qiskit-aqua==0.7.5->qiskit) (8.5.0)\n",
            "Requirement already satisfied: inflection>=0.3.1 in /usr/local/lib/python3.6/dist-packages (from quandl->qiskit-aqua==0.7.5->qiskit) (0.5.1)\n",
            "Requirement already satisfied: joblib>=0.11 in /usr/local/lib/python3.6/dist-packages (from scikit-learn>=0.20.0->qiskit-aqua==0.7.5->qiskit) (0.16.0)\n",
            "Requirement already satisfied: chardet<4,>=3.0.2 in /usr/local/lib/python3.6/dist-packages (from requests>=2.19->qiskit-ibmq-provider==0.9.0->qiskit) (3.0.4)\n",
            "Requirement already satisfied: idna<3,>=2.5 in /usr/local/lib/python3.6/dist-packages (from requests>=2.19->qiskit-ibmq-provider==0.9.0->qiskit) (2.10)\n",
            "Requirement already satisfied: certifi>=2017.4.17 in /usr/local/lib/python3.6/dist-packages (from requests>=2.19->qiskit-ibmq-provider==0.9.0->qiskit) (2020.6.20)\n",
            "Requirement already satisfied: cryptography>=1.3 in /usr/local/lib/python3.6/dist-packages (from requests-ntlm>=1.1.0->qiskit-ibmq-provider==0.9.0->qiskit) (3.1.1)\n",
            "Requirement already satisfied: ntlm-auth>=1.0.2 in /usr/local/lib/python3.6/dist-packages (from requests-ntlm>=1.1.0->qiskit-ibmq-provider==0.9.0->qiskit) (1.5.0)\n",
            "Requirement already satisfied: cffi!=1.11.3,>=1.8 in /usr/local/lib/python3.6/dist-packages (from cryptography>=1.3->requests-ntlm>=1.1.0->qiskit-ibmq-provider==0.9.0->qiskit) (1.14.2)\n",
            "Requirement already satisfied: pycparser in /usr/local/lib/python3.6/dist-packages (from cffi!=1.11.3,>=1.8->cryptography>=1.3->requests-ntlm>=1.1.0->qiskit-ibmq-provider==0.9.0->qiskit) (2.20)\n"
          ],
          "name": "stdout"
        }
      ]
    },
    {
      "cell_type": "code",
      "metadata": {
        "id": "3aTlBr3SDUsa"
      },
      "source": [
        "import numpy as np\n",
        "from numpy import kron\n",
        "from random import random\n",
        "from scipy.optimize import minimize\n",
        "\n",
        "from qiskit import *\n",
        "from qiskit.circuit.library.standard_gates import U2Gate\n",
        "from qiskit.aqua.operators import WeightedPauliOperator\n",
        "from qiskit.aqua.algorithms import NumPyEigensolver"
      ],
      "execution_count": null,
      "outputs": []
    },
    {
      "cell_type": "code",
      "metadata": {
        "id": "QzOXrlyM9OHm"
      },
      "source": [
        "# Decomposing the given hamiltonian matrix:\n",
        "\n",
        "def decomp(H):\n",
        "    \"\"\"\n",
        "    decomposing the matrix to sum of Pauli terms\n",
        "    :param H: 4*4 matrix.\n",
        "    :params p_x, p_y, p_z ,p_I: are pauli matrices.\n",
        "    :symbols: list of the pauli matrices that we use to represent the different terms of the decomposition. \n",
        "    :param term: different part of the decomposition.\n",
        "    :param coef: coeficent for each term in the decomposition.\n",
        "    \"\"\"\n",
        "   \n",
        "    p_x = np.array([[0, 1],  [ 1, 0]])\n",
        "    p_y = np.array([[0, -1j],[1j, 0]])\n",
        "    p_z = np.array([[1, 0],  [0, -1]])\n",
        "    p_I = np.array([[1, 0],  [ 0, 1]])\n",
        "    P = [p_I, p_x, p_y, p_z]\n",
        "    symbols = ['I', 's_x', 's_y', 's_z']\n",
        "    for i in range(4):\n",
        "        for j in range(4):\n",
        "            term = symbols[i] + ' \\otimes ' + symbols[j]\n",
        "            coef_ij = 0.25 * np.dot(kron(P[i], P[j]).conjugate().transpose(), H).trace()\n",
        "            if coef_ij != 0.0:\n",
        "                print ( coef_ij.real, term)\n"
      ],
      "execution_count": null,
      "outputs": []
    },
    {
      "cell_type": "code",
      "metadata": {
        "id": "fmhX5XTL9fRL"
      },
      "source": [
        "# The given hamiltonian matrix:\n",
        "\n",
        "\n",
        "H = np.matrix([[1,0,0,0], \n",
        "                      [0, 0, -1, 0], \n",
        "                      [0,-1,0,0], \n",
        "                      [0,0,0,1]])"
      ],
      "execution_count": null,
      "outputs": []
    },
    {
      "cell_type": "code",
      "metadata": {
        "id": "axL4y5Pr9fg0",
        "outputId": "028b1822-d063-4adc-ec3e-8b4e596e3818",
        "colab": {
          "base_uri": "https://localhost:8080/",
          "height": 85
        }
      },
      "source": [
        "H_decomp = decomp(H)"
      ],
      "execution_count": null,
      "outputs": [
        {
          "output_type": "stream",
          "text": [
            "[[0.5]] I \\otimes I\n",
            "[[-0.5]] s_x \\otimes s_x\n",
            "[[-0.5]] s_y \\otimes s_y\n",
            "[[0.5]] s_z \\otimes s_z\n"
          ],
          "name": "stdout"
        }
      ]
    },
    {
      "cell_type": "code",
      "metadata": {
        "id": "ERCa1I_3MLhg"
      },
      "source": [
        "# Using Weighted Pauli Operator to reperesnt the hamiltonian \n",
        "\n",
        "pauli_dict = {\n",
        "    'paulis': [{\"coeff\": {\"imag\": 0.0, \"real\": 0.5}, \"label\": \"II\"},\n",
        "              {\"coeff\": {\"imag\": 0.0, \"real\": 0.5}, \"label\": \"ZZ\"},\n",
        "              {\"coeff\": {\"imag\": 0.0, \"real\": -0.5}, \"label\": \"XX\"},\n",
        "              {\"coeff\": {\"imag\": 0.0, \"real\": -0.5}, \"label\": \"YY\"}\n",
        "              ]\n",
        "}\n",
        "H2=WeightedPauliOperator.from_dict(pauli_dict)"
      ],
      "execution_count": null,
      "outputs": []
    },
    {
      "cell_type": "code",
      "metadata": {
        "id": "_LJjTIH-DEiK",
        "outputId": "9cfe13bb-f8e2-4157-91fe-9a1b1585ba46",
        "colab": {
          "base_uri": "https://localhost:8080/",
          "height": 119
        }
      },
      "source": [
        "# Using Qiskit's NumPyEigensolver class to find the smallest eigenvalue of the given Hamiltonian with a classical algorithm. \n",
        "# Only as a reference for comparing with the result of my own VQE \n",
        "\n",
        "exact_result = NumPyEigensolver(H2).run()\n",
        "print(\"exact_result:\",exact_result)\n",
        "reference_energy = min(np.real(exact_result.eigenvalues))\n",
        "print('The exact ground state energy is: {}'.format(reference_energy))"
      ],
      "execution_count": null,
      "outputs": [
        {
          "output_type": "stream",
          "text": [
            "exact_result: {'eigenvalues': array([-1.-4.71984982e-17j]), 'eigenstates': ListOp([VectorStateFn(Statevector([5.55111512e-17+6.24500451e-17j,\n",
            "             5.52878186e-01-4.40823901e-01j,\n",
            "             5.52878186e-01-4.40823901e-01j,\n",
            "             1.11022302e-16-1.66533454e-16j],\n",
            "            dims=(2, 2)), coeff=1.0, is_measurement=False)], coeff=1.0, abelian=False)}\n",
            "The exact ground state energy is: -1.0\n"
          ],
          "name": "stdout"
        }
      ]
    },
    {
      "cell_type": "code",
      "metadata": {
        "id": "zRWvZtV9OhwA"
      },
      "source": [
        "#I only considerd RX as my variational parameter.\n",
        "\n",
        "def quantum_state_preparation(circuit, parameters):\n",
        "    q = circuit.qregs[0] # q is the quantum register where the info about qubits is stored\n",
        "    circuit.rx(parameters[0], q[0])\n",
        "    circuit.rx(parameters[0], q[1])\n",
        "    return circuit"
      ],
      "execution_count": null,
      "outputs": []
    },
    {
      "cell_type": "code",
      "metadata": {
        "id": "XsidhRSjFG8f"
      },
      "source": [
        "def vqe_circuit(parameters, measure):\n",
        "    \"\"\"\n",
        "    Creates a device ansatz circuit for optimization.\n",
        "    :param parameters_array: list of parameters for constructing ansatz state that should be optimized.\n",
        "    :param measure: measurement type. E.g. 'ZZ' stands for Z \\otimes Z measurement.\n",
        "    :return: quantum circuit.\n",
        "    \"\"\"\n",
        "    q = QuantumRegister(2)\n",
        "    c = ClassicalRegister(2)\n",
        "    circuit = QuantumCircuit(q, c)\n",
        "\n",
        "    # quantum state preparation\n",
        "    circuit = quantum_state_preparation(circuit, parameters)\n",
        "\n",
        "    # measurement\n",
        "    if measure == 'ZZ':\n",
        "        circuit.measure(q[0], c[0])\n",
        "        circuit.measure(q[1], c[1])\n",
        "    elif measure == 'XX':\n",
        "        circuit.u2(0, np.pi, q[0])\n",
        "        circuit.measure(q[0], c[0])\n",
        "        circuit.u2(0, np.pi, q[1])\n",
        "        circuit.measure(q[1], c[1])\n",
        "    elif measure == 'YY':\n",
        "        circuit.u2(0, np.pi/2, q[0])\n",
        "        circuit.measure(q[0], c[0])\n",
        "        circuit.u2(0, np.pi/2, q[1])\n",
        "        circuit.measure(q[1], c[0])\n",
        "    else:\n",
        "        raise ValueError('Not valid input for measurement: input should be \"XX\" or \"YY\" or \"ZZ\"')\n",
        "\n",
        "    return circuit"
      ],
      "execution_count": null,
      "outputs": []
    },
    {
      "cell_type": "code",
      "metadata": {
        "id": "GjHjWRvzLl7_"
      },
      "source": [
        "# Finding the expectation values of a Pauli operators: \n",
        "\n",
        "def quantum_module(parameters, measure):\n",
        "    # measure\n",
        "    if measure == 'II':\n",
        "        return 1\n",
        "    elif measure == 'ZZ':\n",
        "        circuit = vqe_circuit(parameters, 'ZZ')\n",
        "    elif measure == 'XX':\n",
        "        circuit = vqe_circuit(parameters, 'XX')\n",
        "    elif measure == 'YY':\n",
        "        circuit = vqe_circuit(parameters, 'YY')\n",
        "    else:\n",
        "        raise ValueError('Not valid input for measurement: input should be \"II\" or \"XX\" or \"ZZ\" or \"YY\"')\n",
        "    \n",
        "    shots = 8192\n",
        "    backend = BasicAer.get_backend('qasm_simulator')\n",
        "    job = execute(circuit, backend, shots=shots)\n",
        "    result = job.result()\n",
        "    counts = result.get_counts()\n",
        "\n",
        "    \n",
        "    # expectation value estimation from counts\n",
        "    expectation_value = 0\n",
        "    for measure_result in counts:\n",
        "        if measure_result == '00':\n",
        "          sign = +1\n",
        "        if measure_result == '11':\n",
        "          sign = +1\n",
        "        if measure_result == '01':\n",
        "          sign = -1\n",
        "        if measure_result == '10':\n",
        "          sign = -1\n",
        "        expectation_value += sign * counts[measure_result] / shots\n",
        "        \n",
        "    return expectation_value"
      ],
      "execution_count": 80,
      "outputs": []
    },
    {
      "cell_type": "code",
      "metadata": {
        "id": "GalfIlIaLmHG"
      },
      "source": [
        "# Creating a dictionary from the WeightedPauliOperator object:\n",
        " \n",
        "def pauli_operator_to_dict(pauli_operator):\n",
        "    \"\"\"\n",
        "    from WeightedPauliOperator return a dict:\n",
        "    {'II': 0.5, 'XX': -0.5, 'YY': -0.5, 'ZZ': 0.5}.\n",
        "    :param pauli_operator: qiskit's WeightedPauliOperator\n",
        "    :return: a dict in the desired form.\n",
        "    \"\"\"\n",
        "    d = pauli_operator.to_dict()\n",
        "    paulis = d['paulis']\n",
        "    paulis_dict = {}\n",
        "\n",
        "    for x in paulis:\n",
        "        label = x['label']\n",
        "        coeff = x['coeff']['real']\n",
        "        paulis_dict[label] = coeff\n",
        "\n",
        "    return paulis_dict\n",
        "pauli_dict = pauli_operator_to_dict(H2)"
      ],
      "execution_count": 81,
      "outputs": []
    },
    {
      "cell_type": "code",
      "metadata": {
        "id": "YuR5Ksle1I-f",
        "outputId": "f91c7572-b51c-4263-9ced-4464b15b35fd",
        "colab": {
          "base_uri": "https://localhost:8080/",
          "height": 34
        }
      },
      "source": [
        "pauli_dict"
      ],
      "execution_count": 82,
      "outputs": [
        {
          "output_type": "execute_result",
          "data": {
            "text/plain": [
              "{'II': 0.5, 'XX': -0.5, 'YY': -0.5, 'ZZ': 0.5}"
            ]
          },
          "metadata": {
            "tags": []
          },
          "execution_count": 82
        }
      ]
    },
    {
      "cell_type": "code",
      "metadata": {
        "id": "2SGk3zATLl6s"
      },
      "source": [
        "# Multiplying the expectation values of Pauli operators by their corresponding coefficients, and then add them all together:\n",
        "\n",
        "def vqe(parameters):\n",
        "        \n",
        "    # quantum_modules\n",
        "    quantum_module_II = pauli_dict['II'] * quantum_module(parameters, 'II')\n",
        "    quantum_module_ZZ = pauli_dict['ZZ'] * quantum_module(parameters, 'ZZ')\n",
        "    quantum_module_XX = pauli_dict['XX'] * quantum_module(parameters, 'XX')\n",
        "    quantum_module_YY = pauli_dict['YY'] * quantum_module(parameters, 'YY')\n",
        "    \n",
        "    # summing the measurement results\n",
        "    classical_adder = quantum_module_II + quantum_module_ZZ + quantum_module_XX + quantum_module_YY\n",
        "    \n",
        "    return classical_adder"
      ],
      "execution_count": 83,
      "outputs": []
    },
    {
      "cell_type": "code",
      "metadata": {
        "id": "gcominXLLzva",
        "outputId": "c0e9832b-3c90-4b80-ebc9-bb39d4338b63",
        "colab": {
          "base_uri": "https://localhost:8080/",
          "height": 51
        }
      },
      "source": [
        "#Comparing the exact ground state and the estimated ground state from my VQE:\n",
        "\n",
        "parameters_array = np.array([np.pi])\n",
        "tol = 1e-3 # tolerance for optimization precision.\n",
        "\n",
        "\n",
        "vqe_result = minimize(vqe, parameters_array, method=\"Powell\", tol=tol)\n",
        "print('The exact ground state energy is: {}'.format(reference_energy))\n",
        "print('The estimated ground state energy from VQE algorithm is: {}'.format(vqe_result.fun))"
      ],
      "execution_count": 84,
      "outputs": [
        {
          "output_type": "stream",
          "text": [
            "The exact ground state energy is: -1.0\n",
            "The estimated ground state energy from VQE algorithm is: -0.0025634765625\n"
          ],
          "name": "stdout"
        }
      ]
    }
  ]
}